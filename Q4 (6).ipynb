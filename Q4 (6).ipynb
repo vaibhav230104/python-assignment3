{
 "cells": [
  {
   "cell_type": "code",
   "execution_count": 1,
   "id": "d3449691-c5c7-414d-a54b-73a550cf0400",
   "metadata": {},
   "outputs": [],
   "source": [
    "l = list(range(1,26))"
   ]
  },
  {
   "cell_type": "code",
   "execution_count": 3,
   "id": "9a04aa13-357c-46e0-88e4-85e7b7d1d9dc",
   "metadata": {},
   "outputs": [],
   "source": [
    "from functools import reduce"
   ]
  },
  {
   "cell_type": "code",
   "execution_count": 4,
   "id": "61f720d5-f256-4a5d-ac88-221bc863f367",
   "metadata": {},
   "outputs": [
    {
     "data": {
      "text/plain": [
       "14341821120000"
      ]
     },
     "execution_count": 4,
     "metadata": {},
     "output_type": "execute_result"
    }
   ],
   "source": [
    "reduce(lambda x,y :x*y , l)"
   ]
  },
  {
   "cell_type": "code",
   "execution_count": null,
   "id": "6225e0d5-65b1-489b-a5ea-13da8c65970a",
   "metadata": {},
   "outputs": [],
   "source": []
  }
 ],
 "metadata": {
  "kernelspec": {
   "display_name": "Python 3 (ipykernel)",
   "language": "python",
   "name": "python3"
  },
  "language_info": {
   "codemirror_mode": {
    "name": "ipython",
    "version": 3
   },
   "file_extension": ".py",
   "mimetype": "text/x-python",
   "name": "python",
   "nbconvert_exporter": "python",
   "pygments_lexer": "ipython3",
   "version": "3.10.8"
  }
 },
 "nbformat": 4,
 "nbformat_minor": 5
}
